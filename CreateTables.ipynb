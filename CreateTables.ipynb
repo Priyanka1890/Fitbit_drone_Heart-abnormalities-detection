{
 "cells": [
  {
   "cell_type": "code",
   "execution_count": 1,
   "id": "9a8c4571-4911-4cb2-9033-b43d88cb0515",
   "metadata": {},
   "outputs": [],
   "source": [
    "import pandas as pd"
   ]
  },
  {
   "cell_type": "code",
   "execution_count": 2,
   "id": "e63d5de9-aeee-4df5-aac7-925f5fb434b8",
   "metadata": {},
   "outputs": [],
   "source": [
    "import os"
   ]
  },
  {
   "cell_type": "code",
   "execution_count": 8,
   "id": "d544626c-0e00-4951-9e1f-3559d5cff184",
   "metadata": {},
   "outputs": [],
   "source": [
    "data = [\n",
    "{\n",
    "    \"idx\":1,\n",
    "    \"name\":\"John Prine\",\n",
    "    \"username\":\"usr\",\n",
    "    \"password\":\"usr\",\n",
    "    \"role\":\"User\",\n",
    "    \"contact\":\"2343233\",\n",
    "    \"age\":\"56\"\n",
    "},\n",
    "{\n",
    "    \"idx\":2,\n",
    "    \"name\":\"John Denver\",\n",
    "    \"username\":\"Medical Professional\",\n",
    "    \"password\":\"med\",\n",
    "    \"role\":\"med\",\n",
    "    \"contact\":\"9823764\",\n",
    "    \"age\":\"54\"\n",
    "},\n",
    "{\n",
    "    \"idx\":3,\n",
    "    \"name\":\"John Smith\",\n",
    "    \"username\":\"drn\",\n",
    "    \"password\":\"drn\",\n",
    "    \"role\":\"Drone Operator\",\n",
    "    \"contact\":\"3984744\",\n",
    "    \"age\":\"36\"\n",
    "},\n",
    "]\n",
    "df = pd.DataFrame(data)\n",
    "df.to_csv(\"./data/register.csv\")"
   ]
  },
  {
   "cell_type": "code",
   "execution_count": null,
   "id": "5f6e2583-4ed5-45cc-87a8-dc9fb749c84a",
   "metadata": {},
   "outputs": [],
   "source": []
  }
 ],
 "metadata": {
  "kernelspec": {
   "display_name": "Python 3 (ipykernel)",
   "language": "python",
   "name": "python3"
  },
  "language_info": {
   "codemirror_mode": {
    "name": "ipython",
    "version": 3
   },
   "file_extension": ".py",
   "mimetype": "text/x-python",
   "name": "python",
   "nbconvert_exporter": "python",
   "pygments_lexer": "ipython3",
   "version": "3.9.18"
  }
 },
 "nbformat": 4,
 "nbformat_minor": 5
}
